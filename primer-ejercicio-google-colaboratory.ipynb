{
  "nbformat": 4,
  "nbformat_minor": 0,
  "metadata": {
    "colab": {
      "name": "primer ejercicio Google colaboratory",
      "provenance": [],
      "mount_file_id": "12n3GopA8xXSf8fDAfnDiYe9BL19Kes85",
      "authorship_tag": "ABX9TyMcAqF7UpP4T4p1LiEIb/ju",
      "include_colab_link": true
    },
    "kernelspec": {
      "name": "python3",
      "display_name": "Python 3"
    },
    "language_info": {
      "name": "python"
    }
  },
  "cells": [
    {
      "cell_type": "markdown",
      "metadata": {
        "id": "view-in-github",
        "colab_type": "text"
      },
      "source": [
        "<a href=\"https://colab.research.google.com/gist/yfmunozn/c0ed474457359613156f966d024f66a7/primer-ejercicio-google-colaboratory.ipynb\" target=\"_parent\"><img src=\"https://colab.research.google.com/assets/colab-badge.svg\" alt=\"Open In Colab\"/></a>"
      ]
    },
    {
      "cell_type": "markdown",
      "source": [
        "# Primer ejercicio google colaboratory#\n",
        " ## 1. Archivo drive##\n",
        "\n"
      ],
      "metadata": {
        "id": "OuQ6ehydF4DJ"
      }
    },
    {
      "cell_type": "code",
      "source": [
        "import pandas as pd\n"
      ],
      "metadata": {
        "id": "sVpXn_uvez0N"
      },
      "execution_count": 1,
      "outputs": []
    },
    {
      "cell_type": "code",
      "source": [
        "pd.read_excel (\"/content/asignaturas 2022-1.xlsx\")"
      ],
      "metadata": {
        "colab": {
          "base_uri": "https://localhost:8080/",
          "height": 344
        },
        "id": "7PWCj9HsfB41",
        "outputId": "5cbe3305-c604-4359-cbc8-a65dea788e51"
      },
      "execution_count": 2,
      "outputs": [
        {
          "output_type": "execute_result",
          "data": {
            "text/html": [
              "\n",
              "  <div id=\"df-acb3cb3e-caf1-4935-9699-b69ffbf7844e\">\n",
              "    <div class=\"colab-df-container\">\n",
              "      <div>\n",
              "<style scoped>\n",
              "    .dataframe tbody tr th:only-of-type {\n",
              "        vertical-align: middle;\n",
              "    }\n",
              "\n",
              "    .dataframe tbody tr th {\n",
              "        vertical-align: top;\n",
              "    }\n",
              "\n",
              "    .dataframe thead th {\n",
              "        text-align: right;\n",
              "    }\n",
              "</style>\n",
              "<table border=\"1\" class=\"dataframe\">\n",
              "  <thead>\n",
              "    <tr style=\"text-align: right;\">\n",
              "      <th></th>\n",
              "      <th>Tipología</th>\n",
              "      <th>Créditos</th>\n",
              "      <th>Asignatura</th>\n",
              "      <th>horario</th>\n",
              "    </tr>\n",
              "  </thead>\n",
              "  <tbody>\n",
              "    <tr>\n",
              "      <th>0</th>\n",
              "      <td>Disciplinar Optativa</td>\n",
              "      <td>3</td>\n",
              "      <td>Producción de frutales (2015906)</td>\n",
              "      <td>NaN</td>\n",
              "    </tr>\n",
              "    <tr>\n",
              "      <th>1</th>\n",
              "      <td>Disciplinar Optativa</td>\n",
              "      <td>3</td>\n",
              "      <td>Cultivos perennes industriales (2015886)</td>\n",
              "      <td>NaN</td>\n",
              "    </tr>\n",
              "    <tr>\n",
              "      <th>2</th>\n",
              "      <td>Disciplinar Obligatoria</td>\n",
              "      <td>3</td>\n",
              "      <td>Reproducción y multiplicación (2015907)</td>\n",
              "      <td>NaN</td>\n",
              "    </tr>\n",
              "    <tr>\n",
              "      <th>3</th>\n",
              "      <td>Disciplinar Obligatoria</td>\n",
              "      <td>3</td>\n",
              "      <td>Ciclo I: Formulación y evaluación de proyectos...</td>\n",
              "      <td>NaN</td>\n",
              "    </tr>\n",
              "    <tr>\n",
              "      <th>4</th>\n",
              "      <td>Disciplinar Obligatoria</td>\n",
              "      <td>3</td>\n",
              "      <td>Agroecosistemas y sistemas de producción (2015...</td>\n",
              "      <td>NaN</td>\n",
              "    </tr>\n",
              "    <tr>\n",
              "      <th>5</th>\n",
              "      <td>Disciplinar Obligatoria</td>\n",
              "      <td>3</td>\n",
              "      <td>Fitomejoramiento (2015893)</td>\n",
              "      <td>NaN</td>\n",
              "    </tr>\n",
              "    <tr>\n",
              "      <th>6</th>\n",
              "      <td>Disciplinar Obligatoria</td>\n",
              "      <td>4</td>\n",
              "      <td>Ciclo II: Ejecución de un proyecto productivo ...</td>\n",
              "      <td>NaN</td>\n",
              "    </tr>\n",
              "    <tr>\n",
              "      <th>7</th>\n",
              "      <td>materias postgrado (opcion trabajo grado)</td>\n",
              "      <td>6</td>\n",
              "      <td>pendiente</td>\n",
              "      <td>NaN</td>\n",
              "    </tr>\n",
              "    <tr>\n",
              "      <th>8</th>\n",
              "      <td>materias electivas</td>\n",
              "      <td>11</td>\n",
              "      <td>pendientes</td>\n",
              "      <td>NaN</td>\n",
              "    </tr>\n",
              "    <tr>\n",
              "      <th>9</th>\n",
              "      <td>Práctica profesional (2015934)</td>\n",
              "      <td>12</td>\n",
              "      <td>pendiente</td>\n",
              "      <td>NaN</td>\n",
              "    </tr>\n",
              "    <tr>\n",
              "      <th>10</th>\n",
              "      <td>Total pendientes</td>\n",
              "      <td>51</td>\n",
              "      <td>NaN</td>\n",
              "      <td>NaN</td>\n",
              "    </tr>\n",
              "  </tbody>\n",
              "</table>\n",
              "</div>\n",
              "      <button class=\"colab-df-convert\" onclick=\"convertToInteractive('df-acb3cb3e-caf1-4935-9699-b69ffbf7844e')\"\n",
              "              title=\"Convert this dataframe to an interactive table.\"\n",
              "              style=\"display:none;\">\n",
              "        \n",
              "  <svg xmlns=\"http://www.w3.org/2000/svg\" height=\"24px\"viewBox=\"0 0 24 24\"\n",
              "       width=\"24px\">\n",
              "    <path d=\"M0 0h24v24H0V0z\" fill=\"none\"/>\n",
              "    <path d=\"M18.56 5.44l.94 2.06.94-2.06 2.06-.94-2.06-.94-.94-2.06-.94 2.06-2.06.94zm-11 1L8.5 8.5l.94-2.06 2.06-.94-2.06-.94L8.5 2.5l-.94 2.06-2.06.94zm10 10l.94 2.06.94-2.06 2.06-.94-2.06-.94-.94-2.06-.94 2.06-2.06.94z\"/><path d=\"M17.41 7.96l-1.37-1.37c-.4-.4-.92-.59-1.43-.59-.52 0-1.04.2-1.43.59L10.3 9.45l-7.72 7.72c-.78.78-.78 2.05 0 2.83L4 21.41c.39.39.9.59 1.41.59.51 0 1.02-.2 1.41-.59l7.78-7.78 2.81-2.81c.8-.78.8-2.07 0-2.86zM5.41 20L4 18.59l7.72-7.72 1.47 1.35L5.41 20z\"/>\n",
              "  </svg>\n",
              "      </button>\n",
              "      \n",
              "  <style>\n",
              "    .colab-df-container {\n",
              "      display:flex;\n",
              "      flex-wrap:wrap;\n",
              "      gap: 12px;\n",
              "    }\n",
              "\n",
              "    .colab-df-convert {\n",
              "      background-color: #E8F0FE;\n",
              "      border: none;\n",
              "      border-radius: 50%;\n",
              "      cursor: pointer;\n",
              "      display: none;\n",
              "      fill: #1967D2;\n",
              "      height: 32px;\n",
              "      padding: 0 0 0 0;\n",
              "      width: 32px;\n",
              "    }\n",
              "\n",
              "    .colab-df-convert:hover {\n",
              "      background-color: #E2EBFA;\n",
              "      box-shadow: 0px 1px 2px rgba(60, 64, 67, 0.3), 0px 1px 3px 1px rgba(60, 64, 67, 0.15);\n",
              "      fill: #174EA6;\n",
              "    }\n",
              "\n",
              "    [theme=dark] .colab-df-convert {\n",
              "      background-color: #3B4455;\n",
              "      fill: #D2E3FC;\n",
              "    }\n",
              "\n",
              "    [theme=dark] .colab-df-convert:hover {\n",
              "      background-color: #434B5C;\n",
              "      box-shadow: 0px 1px 3px 1px rgba(0, 0, 0, 0.15);\n",
              "      filter: drop-shadow(0px 1px 2px rgba(0, 0, 0, 0.3));\n",
              "      fill: #FFFFFF;\n",
              "    }\n",
              "  </style>\n",
              "\n",
              "      <script>\n",
              "        const buttonEl =\n",
              "          document.querySelector('#df-acb3cb3e-caf1-4935-9699-b69ffbf7844e button.colab-df-convert');\n",
              "        buttonEl.style.display =\n",
              "          google.colab.kernel.accessAllowed ? 'block' : 'none';\n",
              "\n",
              "        async function convertToInteractive(key) {\n",
              "          const element = document.querySelector('#df-acb3cb3e-caf1-4935-9699-b69ffbf7844e');\n",
              "          const dataTable =\n",
              "            await google.colab.kernel.invokeFunction('convertToInteractive',\n",
              "                                                     [key], {});\n",
              "          if (!dataTable) return;\n",
              "\n",
              "          const docLinkHtml = 'Like what you see? Visit the ' +\n",
              "            '<a target=\"_blank\" href=https://colab.research.google.com/notebooks/data_table.ipynb>data table notebook</a>'\n",
              "            + ' to learn more about interactive tables.';\n",
              "          element.innerHTML = '';\n",
              "          dataTable['output_type'] = 'display_data';\n",
              "          await google.colab.output.renderOutput(dataTable, element);\n",
              "          const docLink = document.createElement('div');\n",
              "          docLink.innerHTML = docLinkHtml;\n",
              "          element.appendChild(docLink);\n",
              "        }\n",
              "      </script>\n",
              "    </div>\n",
              "  </div>\n",
              "  "
            ],
            "text/plain": [
              "                                    Tipología  Créditos  \\\n",
              "0                        Disciplinar Optativa         3   \n",
              "1                        Disciplinar Optativa         3   \n",
              "2                     Disciplinar Obligatoria         3   \n",
              "3                     Disciplinar Obligatoria         3   \n",
              "4                     Disciplinar Obligatoria         3   \n",
              "5                     Disciplinar Obligatoria         3   \n",
              "6                     Disciplinar Obligatoria         4   \n",
              "7   materias postgrado (opcion trabajo grado)         6   \n",
              "8                          materias electivas        11   \n",
              "9              Práctica profesional (2015934)        12   \n",
              "10                           Total pendientes        51   \n",
              "\n",
              "                                           Asignatura  horario  \n",
              "0                    Producción de frutales (2015906)      NaN  \n",
              "1            Cultivos perennes industriales (2015886)      NaN  \n",
              "2             Reproducción y multiplicación (2015907)      NaN  \n",
              "3   Ciclo I: Formulación y evaluación de proyectos...      NaN  \n",
              "4   Agroecosistemas y sistemas de producción (2015...      NaN  \n",
              "5                          Fitomejoramiento (2015893)      NaN  \n",
              "6   Ciclo II: Ejecución de un proyecto productivo ...      NaN  \n",
              "7                                           pendiente      NaN  \n",
              "8                                          pendientes      NaN  \n",
              "9                                           pendiente      NaN  \n",
              "10                                                NaN      NaN  "
            ]
          },
          "metadata": {},
          "execution_count": 2
        }
      ]
    },
    {
      "cell_type": "markdown",
      "source": [
        ""
      ],
      "metadata": {
        "id": "Ee_6WCzHMQ0M"
      }
    },
    {
      "cell_type": "markdown",
      "source": [
        "#2. IMAGEN DE INTERNET#\n"
      ],
      "metadata": {
        "id": "6294NELUMpdK"
      }
    },
    {
      "cell_type": "markdown",
      "source": [
        "![Escudo Isnos Huila](https://upload.wikimedia.org/wikipedia/commons/thumb/f/f8/Escudo_de_Isnos_Huila.svg/1200px-Escudo_de_Isnos_Huila.svg.png)\n"
      ],
      "metadata": {
        "id": "Zdb2LX1_OlAC"
      }
    },
    {
      "cell_type": "markdown",
      "source": [
        "# 3. Matrix en LATEX#"
      ],
      "metadata": {
        "id": "Aoh4MsaTPGMJ"
      }
    },
    {
      "cell_type": "markdown",
      "source": [
        "\\begin{matrix}\n",
        "A_1 & B_1 & C_1 & D_1 \\\\\n",
        "A_2 & B_2 & c_2 & D_2 \\\\\n",
        "A_3 & B_3 & C_3 & D_3 \\\\\n",
        "A_4 & B_4 & C_4 & D_4 \\\\\n",
        "\\end{matrix}"
      ],
      "metadata": {
        "id": "tS3rlu1-QeJ3"
      }
    },
    {
      "cell_type": "markdown",
      "source": [
        "#4. Ecuacion#"
      ],
      "metadata": {
        "id": "PGdH2aTfQhu3"
      }
    },
    {
      "cell_type": "markdown",
      "source": [
        "\\begin{equation}\n",
        "\\displaystyle \\lim_{x \\to 0}x^2+2x+4=4\n",
        "\\end{equation}"
      ],
      "metadata": {
        "id": "cOtBkkMWf29b"
      }
    },
    {
      "cell_type": "markdown",
      "source": [
        "#5. tabla Latex\n"
      ],
      "metadata": {
        "id": "d-vIdckpid_B"
      }
    },
    {
      "cell_type": "markdown",
      "source": [
        "\\begin{array}{|c|c|} \\hline\n",
        "column1 & column2 & column3 & column4 \\\\ \\hline\n",
        "foo & bar & foo & bar \\\\\n",
        "foo & bar & foo & bar \\\\\n",
        "foo & bar & foo & bar \\\\ \\hline\n",
        "\\end{array}"
      ],
      "metadata": {
        "id": "YvuLASsRZrG4"
      }
    },
    {
      "cell_type": "code",
      "source": [
        "from google.colab import drive\n",
        "drive.mount('/content/drive')"
      ],
      "metadata": {
        "id": "0fDkx5QweLbV"
      },
      "execution_count": null,
      "outputs": []
    }
  ]
}